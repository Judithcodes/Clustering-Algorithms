{
 "cells": [
  {
   "cell_type": "code",
   "execution_count": 1,
   "metadata": {
    "collapsed": true
   },
   "outputs": [],
   "source": [
    "import pandas as pd\n",
    "import numpy as np\n",
    "import random\n",
    "import matplotlib.pyplot as plt\n",
    "from sklearn.datasets.samples_generator import make_blobs"
   ]
  },
  {
   "cell_type": "code",
   "execution_count": 30,
   "metadata": {
    "collapsed": true
   },
   "outputs": [],
   "source": [
    "class cluster_node:\n",
    "    def __init__(self, vec, id, left=None, right=None, distance=0.0, node_vector = None):\n",
    "        self.leftnode = left\n",
    "        self.rightnode = right\n",
    "        self.vec = vec\n",
    "        self.id = id\n",
    "        self.distance = distance\n",
    "        if node_vector is None:\n",
    "            self.node_vector = [self.id]\n",
    "        else:\n",
    "            self.node_vector = node_vector[:]"
   ]
  },
  {
   "cell_type": "code",
   "execution_count": 31,
   "metadata": {
    "collapsed": true
   },
   "outputs": [],
   "source": [
    "def euclidean_distance(v1,v2):\n",
    "    return np.sqrt(sum((v1-v2)**2))\n",
    "\n",
    "def min_distance(clust1, clust2, distances):\n",
    "    d = 12123123123123\n",
    "    for i in clust1.node_vector:\n",
    "        for j in clust2.node_vector:\n",
    "            try:\n",
    "                distance = distances[(i,j)]\n",
    "            except:\n",
    "                try:\n",
    "                    distance = distances[(j,i)]\n",
    "                except:\n",
    "                    distance = euclidean_distance(clust1.vec, clust2.vec)\n",
    "            if distance < d:\n",
    "                d = distance\n",
    "    return d\n"
   ]
  },
  {
   "cell_type": "code",
   "execution_count": 32,
   "metadata": {
    "collapsed": true
   },
   "outputs": [],
   "source": [
    "def agglomerative_clustering(data, distance):\n",
    "    # cluster the rows of the \"data\" matrix\n",
    "    distances = {}\n",
    "    currentclustid = -1\n",
    "\n",
    "    # clusters are initially just the individual rows\n",
    "    clust = [cluster_node(np.array(data[i]), id=i) for i in range(len(data))]\n",
    "\n",
    "    while len(clust) > 1:\n",
    "        lowestpair = (0,1)\n",
    "        closest = euclidean_distance(clust[0].vec,clust[1].vec)\n",
    "    \n",
    "        # loop through every pair looking for the smallest distance\n",
    "        for i in range(len(clust)):\n",
    "            for j in range(i+1,len(clust)):\n",
    "                # distances is the cache of distance calculations\n",
    "                if (clust[i].id,clust[j].id) not in distances:\n",
    "                    if distance == \"min\":\n",
    "                        distances[(clust[i].id,clust[j].id)] = min_distance(clust[i], clust[j], distances)\n",
    "                    else:\n",
    "                        distances[(clust[i].id,clust[j].id)] = euclidean_distance(clust[i].vec,clust[j].vec)\n",
    "        \n",
    "                d = distances[(clust[i].id,clust[j].id)]\n",
    "        \n",
    "                if d < closest:\n",
    "                    closest = d\n",
    "                    lowestpair = (i,j)\n",
    "        \n",
    "        # calculate the average of the two clusters\n",
    "        len0 = len(clust[lowestpair[0]].node_vector)\n",
    "        len1 = len(clust[lowestpair[1]].node_vector)\n",
    "        mean_vector = [(len0*clust[lowestpair[0]].vec[i] + len1*clust[lowestpair[1]].vec[i])/(len0 + len1) \\\n",
    "                        for i in range(len(clust[0].vec))]\n",
    "        \n",
    "        # create the new cluster\n",
    "        newcluster = cluster_node(np.array(mean_vector), currentclustid, left = clust[lowestpair[0]], right = clust[lowestpair[1]], \\\n",
    "            distance = closest, node_vector = clust[lowestpair[0]].node_vector + clust[lowestpair[1]].node_vector)\n",
    "        \n",
    "        # cluster ids that weren't in the original set are negative\n",
    "        currentclustid -= 1\n",
    "        del clust[lowestpair[1]]\n",
    "        del clust[lowestpair[0]]\n",
    "        clust.append(newcluster)\n",
    "\n",
    "    return clust[0]"
   ]
  },
  {
   "cell_type": "code",
   "execution_count": 34,
   "metadata": {
    "collapsed": true
   },
   "outputs": [],
   "source": [
    "#### Now Generate Data\n",
    "centers = [[1, 1], [-1, -1], [1, -1]]\n",
    "X, _ = make_blobs(n_samples = 90, centers = centers, cluster_std = 0.1)\n",
    "df = pd.DataFrame(X)\n",
    "\n",
    "plt.scatter(df[0],df[1])\n",
    "plt.show()"
   ]
  },
  {
   "cell_type": "code",
   "execution_count": 36,
   "metadata": {
    "collapsed": false
   },
   "outputs": [],
   "source": [
    "data = np.array(df)\n",
    "\n",
    "### Taking Average\n",
    "cluster = agglomerative_clustering(data, \"avg\")\n",
    "plt.scatter(cluster.leftnode.vec[0], cluster.leftnode.vec[1], color = 'yellow')\n",
    "plt.scatter(cluster.rightnode.leftnode.vec[0], cluster.rightnode.leftnode.vec[1], color = 'red')\n",
    "plt.scatter(cluster.rightnode.rightnode.vec[0], cluster.rightnode.rightnode.vec[1], color = 'green')\n",
    "plt.scatter(df[0],df[1])\n",
    "plt.show()\n",
    "\n",
    "\n",
    "## Taking Minimum Distance\n",
    "# cluster = agglomerative_clustering(data, \"min\")\n",
    "# plt.scatter(cluster.leftnode.vec[0], cluster.leftnode.vec[1], color = 'yellow')\n",
    "# plt.scatter(cluster.rightnode.leftnode.vec[0], cluster.rightnode.leftnode.vec[1], color = 'red')\n",
    "# plt.scatter(cluster.rightnode.rightnode.vec[0], cluster.rightnode.rightnode.vec[1], color = 'green')\n",
    "# plt.scatter(df[0],df[1])\n",
    "# plt.show()"
   ]
  },
  {
   "cell_type": "code",
   "execution_count": null,
   "metadata": {
    "collapsed": true
   },
   "outputs": [],
   "source": []
  }
 ],
 "metadata": {
  "anaconda-cloud": {},
  "kernelspec": {
   "display_name": "Python [Root]",
   "language": "python",
   "name": "Python [Root]"
  },
  "language_info": {
   "codemirror_mode": {
    "name": "ipython",
    "version": 3
   },
   "file_extension": ".py",
   "mimetype": "text/x-python",
   "name": "python",
   "nbconvert_exporter": "python",
   "pygments_lexer": "ipython3",
   "version": "3.5.2"
  }
 },
 "nbformat": 4,
 "nbformat_minor": 0
}
