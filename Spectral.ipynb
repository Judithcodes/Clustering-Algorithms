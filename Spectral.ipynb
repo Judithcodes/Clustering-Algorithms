{
 "cells": [
  {
   "cell_type": "code",
   "execution_count": 1,
   "metadata": {
    "collapsed": true
   },
   "outputs": [],
   "source": [
    "import pandas as pd\n",
    "import numpy as np"
   ]
  },
  {
   "cell_type": "code",
   "execution_count": 2,
   "metadata": {
    "collapsed": false
   },
   "outputs": [],
   "source": [
    "# df=pd.read_csv('./segmentation.data')\n",
    "### Generate Clusters\n",
    "from sklearn import cluster, datasets\n",
    "noisy_moons = datasets.make_moons(n_samples=100, noise=.05)\n",
    "df = pd.DataFrame(noisy_moons[0]) ## convert to DF"
   ]
  },
  {
   "cell_type": "code",
   "execution_count": 3,
   "metadata": {
    "collapsed": false
   },
   "outputs": [],
   "source": [
    "# Visualize the data\n",
    "import matplotlib.pyplot as plt\n",
    "plt.scatter(df[0],df[1])\n",
    "plt.show()"
   ]
  },
  {
   "cell_type": "code",
   "execution_count": 4,
   "metadata": {
    "collapsed": true
   },
   "outputs": [],
   "source": [
    "def find_distance_matrix(data):\n",
    "    euclid_distance = []\n",
    "    for i in data:\n",
    "        distance = []\n",
    "        for j in data:\n",
    "            distance.append(np.linalg.norm(i - j) * np.linalg.norm(i - j))\n",
    "        distance = np.array(distance)\n",
    "        euclid_distance.append(distance)\n",
    "    euclid_distance = np.array(euclid_distance)\n",
    "    return euclid_distance\n",
    "\n",
    "def inverse_squareform(matrix):\n",
    "    inv_sqfrm = []\n",
    "    for i in range(len(matrix)):\n",
    "        for j in range(i+1, len(matrix[i])):\n",
    "            inv_sqfrm.append(matrix[i][j])\n",
    "    inv_sqfrm = np.array(inv_sqfrm)\n",
    "    return inv_sqfrm\n",
    "\n",
    "def rbfkernel(gamma, data):\n",
    "    return np.exp(-gamma * distance)\n",
    "\n",
    "data = np.array(df)"
   ]
  },
  {
   "cell_type": "code",
   "execution_count": 5,
   "metadata": {
    "collapsed": true
   },
   "outputs": [],
   "source": [
    "# Making kernel matrix\n",
    "distance = find_distance_matrix(data)\n",
    "gamma = 1/(2*np.var(inverse_squareform(distance)))\n",
    "kernel = rbfkernel(gamma, distance)"
   ]
  },
  {
   "cell_type": "code",
   "execution_count": 6,
   "metadata": {
    "collapsed": false
   },
   "outputs": [],
   "source": [
    "W=kernel[:]\n",
    "cutoff = 0.980\n",
    "for i in range(len(kernel)):\n",
    "    for j in range(len(kernel)):\n",
    "        if kernel[i][j] < cutoff:\n",
    "            W[i][j] = 0"
   ]
  },
  {
   "cell_type": "code",
   "execution_count": 7,
   "metadata": {
    "collapsed": false
   },
   "outputs": [],
   "source": [
    "# Making degree matrix\n",
    "D = np.zeros(shape=(len(W),len(W)))\n",
    "for i in range(len(W)):\n",
    "    D[i][i] = np.sum(W[i])           "
   ]
  },
  {
   "cell_type": "code",
   "execution_count": 8,
   "metadata": {
    "collapsed": false
   },
   "outputs": [],
   "source": [
    "L=D-W\n",
    "## Find eign values, divide vecotrs by root lamba, sort ,pick k highest\n",
    "tmp=np.linalg.eig(L) ## Using Centred Matrix to find eign values\n",
    "eign_values=tmp[0]\n",
    "eign_vector=tmp[1]\n",
    "indexes = eign_values.argsort()[::1]\n",
    "second_vector = eign_vector[:, indexes[1]]"
   ]
  },
  {
   "cell_type": "code",
   "execution_count": 9,
   "metadata": {
    "collapsed": false
   },
   "outputs": [],
   "source": [
    "plt.plot(np.sort(eign_values),'ro')\n",
    "plt.show()"
   ]
  },
  {
   "cell_type": "code",
   "execution_count": 72,
   "metadata": {
    "collapsed": false
   },
   "outputs": [],
   "source": [
    "from sklearn.cluster import KMeans\n",
    "kmeans = KMeans(n_clusters=2).fit(second_vector.reshape(-1,1))\n",
    "label=kmeans.labels_"
   ]
  },
  {
   "cell_type": "code",
   "execution_count": 73,
   "metadata": {
    "collapsed": false
   },
   "outputs": [],
   "source": [
    "plt.scatter([data[i][0] for i in range(len(data)) if label[i] == 1], [data[i][1] for i in range(len(data)) if label[i] == 1], color='green', alpha=0.5)\n",
    "plt.scatter([data[i][0] for i in range(len(data)) if label[i] == 0], [data[i][1] for i in range(len(data)) if label[i] == 0], color='red', alpha=0.5)\n",
    "plt.show()"
   ]
  },
  {
   "cell_type": "code",
   "execution_count": 50,
   "metadata": {
    "collapsed": false
   },
   "outputs": [],
   "source": [
    "################\n",
    "################ Self Implemented K means\n",
    "################\n",
    "# k=2\n",
    "# import random\n",
    "# def KMeans_implementation(data):\n",
    "#     alpha = np.zeros(shape = (len(data), k))\n",
    "\n",
    "#     random.seed()\n",
    "#     indexes = random.sample(range(0, len(data)), k)\n",
    "#     means = data[indexes]\n",
    "\n",
    "#     for i in range(15):\n",
    "#         new_alpha = np.zeros(shape = (len(data),k))\n",
    "#         for i in range(len(data)):\n",
    "#             min_value = 123213123123123\n",
    "#             min_index = -1\n",
    "#             for j in range(k):\n",
    "#                 distance = np.linalg.norm(data[i] - means[j])**2\n",
    "#                 if distance < min_value:\n",
    "#                     min_value = distance\n",
    "#                     min_index = j\n",
    "#             new_alpha[i][min_index] = 1\n",
    "#         alpha = new_alpha[:]\n",
    "#         class_frequency = pd.DataFrame(alpha)    \n",
    "#         cluster_count = [class_frequency[i].value_counts()[1] for i in range(k)]\n",
    "#         for j in range(k):\n",
    "#             means[j] = 0\n",
    "#             for i in range(len(data)):\n",
    "#                 means[j] += (alpha[i][j] * data[i])\n",
    "#             means[j] = means[j] / float(cluster_count[j])\n",
    "\n",
    "#     labels = []\n",
    "#     for i in range(len(alpha)):\n",
    "#         for j in range(k):\n",
    "#             if alpha[i][j] == 1:\n",
    "#                 labels.append(j)\n",
    "#     return labels\n",
    "\n",
    "# labels = KMeans_implementation(second_vector)"
   ]
  },
  {
   "cell_type": "code",
   "execution_count": null,
   "metadata": {
    "collapsed": true
   },
   "outputs": [],
   "source": []
  }
 ],
 "metadata": {
  "anaconda-cloud": {},
  "kernelspec": {
   "display_name": "Python [Root]",
   "language": "python",
   "name": "Python [Root]"
  },
  "language_info": {
   "codemirror_mode": {
    "name": "ipython",
    "version": 3
   },
   "file_extension": ".py",
   "mimetype": "text/x-python",
   "name": "python",
   "nbconvert_exporter": "python",
   "pygments_lexer": "ipython3",
   "version": "3.5.2"
  }
 },
 "nbformat": 4,
 "nbformat_minor": 0
}
