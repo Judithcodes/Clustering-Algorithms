{
 "cells": [
  {
   "cell_type": "code",
   "execution_count": 1,
   "metadata": {
    "collapsed": true
   },
   "outputs": [],
   "source": [
    "import pandas as pd\n",
    "import numpy as np\n",
    "import random\n",
    "k = 4"
   ]
  },
  {
   "cell_type": "code",
   "execution_count": 2,
   "metadata": {
    "collapsed": false
   },
   "outputs": [],
   "source": [
    "# df=pd.read_csv('./segmentation.data')\n",
    "### Generate Clusters\n",
    "from sklearn.datasets.samples_generator import make_blobs\n",
    "centers = [[1, 1], [-1, -1], [1, -1],[-1,1]]\n",
    "X, _ = make_blobs(n_samples = 90, centers = centers, cluster_std = 0.15)\n",
    "df = pd.DataFrame(X) ## convert to DF"
   ]
  },
  {
   "cell_type": "code",
   "execution_count": 3,
   "metadata": {
    "collapsed": false
   },
   "outputs": [],
   "source": [
    "## Visualize the data\n",
    "import matplotlib.pyplot as plt\n",
    "plt.scatter(df[0],df[1])\n",
    "plt.show()"
   ]
  },
  {
   "cell_type": "code",
   "execution_count": 4,
   "metadata": {
    "collapsed": true
   },
   "outputs": [],
   "source": [
    "def find_distance_matrix(data):\n",
    "    euclid_distance = []\n",
    "    for i in data:\n",
    "        distance = []\n",
    "        for j in data:\n",
    "            distance.append(np.linalg.norm(i - j) * np.linalg.norm(i - j))\n",
    "        distance = np.array(distance)\n",
    "        euclid_distance.append(distance)\n",
    "    euclid_distance = np.array(euclid_distance)\n",
    "    return euclid_distance\n",
    "\n",
    "def inverse_squareform(matrix):\n",
    "    inv_sqfrm = []\n",
    "    for i in range(len(matrix)):\n",
    "        for j in range(i+1, len(matrix[i])):\n",
    "            inv_sqfrm.append(matrix[i][j])\n",
    "    inv_sqfrm = np.array(inv_sqfrm)\n",
    "    return inv_sqfrm\n",
    "\n",
    "def rbfkernel(gamma, data):\n",
    "    return np.exp(-gamma * distance)\n",
    "\n",
    "data = np.array(df)"
   ]
  },
  {
   "cell_type": "code",
   "execution_count": 41,
   "metadata": {
    "collapsed": false
   },
   "outputs": [],
   "source": [
    "### making kernel matrix\n",
    "distance = find_distance_matrix(data)\n",
    "gamma = 1/(2*np.var(inverse_squareform(distance)))\n",
    "kernel = rbfkernel(gamma, distance)\n"
   ]
  },
  {
   "cell_type": "code",
   "execution_count": 42,
   "metadata": {
    "collapsed": true
   },
   "outputs": [],
   "source": [
    "## Pick  Random K means\n",
    "random.seed()\n",
    "indexes = random.sample(range(0, len(df)), k)\n",
    "means = df.ix[indexes]\n",
    "\n",
    "### Alpha\n",
    "alpha = np.zeros(shape = (len(df),k))"
   ]
  },
  {
   "cell_type": "code",
   "execution_count": 44,
   "metadata": {
    "collapsed": true
   },
   "outputs": [],
   "source": [
    "### Calculating distance from mean and assigning labels\n",
    "\n",
    "for i in range(len(df)):\n",
    "    min_value = 123213123123123\n",
    "    min_index = -1\n",
    "    for j in range(k):\n",
    "        distance = kernel[i][i] - 2*(kernel[i][indexes[j]]) + kernel[indexes[j]][indexes[j]]\n",
    "        if distance < min_value:\n",
    "            min_value = distance\n",
    "            min_index = j\n",
    "    alpha[i][min_index] = 1"
   ]
  },
  {
   "cell_type": "code",
   "execution_count": 45,
   "metadata": {
    "collapsed": false
   },
   "outputs": [],
   "source": [
    "# Now iterate and find labels\n",
    "\n",
    "for it in range(10):\n",
    "    class_frequency = pd.DataFrame(alpha)\n",
    "    cluster_count = [class_frequency[i].value_counts()[1] for i in range(k)]\n",
    "    new_alpha = np.zeros(shape = (len(df),k))\n",
    "    for i in range(len(df)):\n",
    "        min_value = 123213123123123\n",
    "        min_index = -1\n",
    "#         print i\n",
    "        for j in range(k):\n",
    "            sum1 = 0\n",
    "            for m in range(len(df)):\n",
    "                sum1 += alpha[m][j] * kernel[i][m]\n",
    "            sum2 = 0\n",
    "            for m1 in range(len(df)):\n",
    "                for m2 in range(len(df)):\n",
    "                    sum2 += alpha[m1][j] * alpha[m2][j] * kernel[m1][m2]\n",
    "            distance = kernel[i][i] - (2 * sum1 / cluster_count[j]) + (sum2/(cluster_count[j] * cluster_count[j]))\n",
    "            if distance < min_value:\n",
    "                min_value = distance\n",
    "                min_index = j\n",
    "        new_alpha[i][min_index] = 1\n",
    "    alpha = new_alpha[:]"
   ]
  },
  {
   "cell_type": "code",
   "execution_count": 46,
   "metadata": {
    "collapsed": false
   },
   "outputs": [],
   "source": [
    "plt.scatter([data[i][0] for i in range(len(data)) if alpha[i][0] == 1], [data[i][1] for i in range(len(data)) if alpha[i][0] == 1], color='red', alpha=0.5)\n",
    "plt.scatter([data[i][0] for i in range(len(data)) if alpha[i][1] == 1], [data[i][1] for i in range(len(data)) if alpha[i][1] == 1], color='blue', alpha=0.5)\n",
    "plt.scatter([data[i][0] for i in range(len(data)) if alpha[i][2] == 1], [data[i][1] for i in range(len(data)) if alpha[i][2] == 1], color='green', alpha=0.5)\n",
    "plt.scatter([data[i][0] for i in range(len(data)) if alpha[i][3] == 1], [data[i][1] for i in range(len(data)) if alpha[i][3] == 1], color='black', alpha=0.5)\n",
    "plt.show()"
   ]
  },
  {
   "cell_type": "code",
   "execution_count": null,
   "metadata": {
    "collapsed": true
   },
   "outputs": [],
   "source": []
  }
 ],
 "metadata": {
  "anaconda-cloud": {},
  "kernelspec": {
   "display_name": "Python [Root]",
   "language": "python",
   "name": "Python [Root]"
  },
  "language_info": {
   "codemirror_mode": {
    "name": "ipython",
    "version": 3
   },
   "file_extension": ".py",
   "mimetype": "text/x-python",
   "name": "python",
   "nbconvert_exporter": "python",
   "pygments_lexer": "ipython3",
   "version": "3.5.2"
  }
 },
 "nbformat": 4,
 "nbformat_minor": 0
}
